{
  "nbformat": 4,
  "nbformat_minor": 0,
  "metadata": {
    "colab": {
      "name": "analyses_ml_june_2021.ipynb",
      "provenance": [],
      "authorship_tag": "ABX9TyNXlQP47pLH3A+dUrOcjgN1",
      "include_colab_link": true
    },
    "kernelspec": {
      "name": "python3",
      "display_name": "Python 3"
    },
    "language_info": {
      "name": "python"
    }
  },
  "cells": [
    {
      "cell_type": "markdown",
      "metadata": {
        "id": "view-in-github",
        "colab_type": "text"
      },
      "source": [
        "<a href=\"https://colab.research.google.com/github/arinbasu/june_2021_19/blob/main/analyses_ml_june_2021.ipynb\" target=\"_parent\"><img src=\"https://colab.research.google.com/assets/colab-badge.svg\" alt=\"Open In Colab\"/></a>"
      ]
    },
    {
      "cell_type": "code",
      "metadata": {
        "id": "wQGSds33pft6"
      },
      "source": [
        "import pandas as pd\n",
        "import numpy as np\n",
        "import matplotlib.pyplot as plt\n",
        "import altair as alt\n",
        "import seaborn as sns"
      ],
      "execution_count": null,
      "outputs": []
    },
    {
      "cell_type": "code",
      "metadata": {
        "id": "xpbqLm9WpqcG"
      },
      "source": [
        "url = \"https://corgis-edu.github.io/corgis/datasets/csv/covid/covid.csv\"\n",
        "who = pd.read_csv(url)"
      ],
      "execution_count": null,
      "outputs": []
    },
    {
      "cell_type": "code",
      "metadata": {
        "colab": {
          "base_uri": "https://localhost:8080/",
          "height": 204
        },
        "id": "3p91i8jjvAVp",
        "outputId": "1820ceb6-73fa-455d-8423-1004682e81ca"
      },
      "source": [
        "who_new = who.loc[:, ['Date.Day',\n",
        "                      'Date.Month',\n",
        "                      'Date.Year',\n",
        "                      'Data.Cases',\n",
        "                      'Data.Deaths',\n",
        "                      'Location.Country',\n",
        "                      'Data.Rate'\n",
        "                      ]]\n",
        "who_new.head()\n",
        "india = who_new[who_new['Location.Country'] == 'India']\n",
        "india.head()\n"
      ],
      "execution_count": null,
      "outputs": [
        {
          "output_type": "execute_result",
          "data": {
            "text/html": [
              "<div>\n",
              "<style scoped>\n",
              "    .dataframe tbody tr th:only-of-type {\n",
              "        vertical-align: middle;\n",
              "    }\n",
              "\n",
              "    .dataframe tbody tr th {\n",
              "        vertical-align: top;\n",
              "    }\n",
              "\n",
              "    .dataframe thead th {\n",
              "        text-align: right;\n",
              "    }\n",
              "</style>\n",
              "<table border=\"1\" class=\"dataframe\">\n",
              "  <thead>\n",
              "    <tr style=\"text-align: right;\">\n",
              "      <th></th>\n",
              "      <th>Date.Day</th>\n",
              "      <th>Date.Month</th>\n",
              "      <th>Date.Year</th>\n",
              "      <th>Data.Cases</th>\n",
              "      <th>Data.Deaths</th>\n",
              "      <th>Location.Country</th>\n",
              "      <th>Data.Rate</th>\n",
              "    </tr>\n",
              "  </thead>\n",
              "  <tbody>\n",
              "    <tr>\n",
              "      <th>23196</th>\n",
              "      <td>5</td>\n",
              "      <td>11</td>\n",
              "      <td>2020</td>\n",
              "      <td>50210</td>\n",
              "      <td>704</td>\n",
              "      <td>India</td>\n",
              "      <td>48.092174</td>\n",
              "    </tr>\n",
              "    <tr>\n",
              "      <th>23197</th>\n",
              "      <td>4</td>\n",
              "      <td>11</td>\n",
              "      <td>2020</td>\n",
              "      <td>46253</td>\n",
              "      <td>514</td>\n",
              "      <td>India</td>\n",
              "      <td>48.504127</td>\n",
              "    </tr>\n",
              "    <tr>\n",
              "      <th>23198</th>\n",
              "      <td>3</td>\n",
              "      <td>11</td>\n",
              "      <td>2020</td>\n",
              "      <td>38310</td>\n",
              "      <td>490</td>\n",
              "      <td>India</td>\n",
              "      <td>49.074304</td>\n",
              "    </tr>\n",
              "    <tr>\n",
              "      <th>23199</th>\n",
              "      <td>2</td>\n",
              "      <td>11</td>\n",
              "      <td>2020</td>\n",
              "      <td>45231</td>\n",
              "      <td>496</td>\n",
              "      <td>India</td>\n",
              "      <td>49.694905</td>\n",
              "    </tr>\n",
              "    <tr>\n",
              "      <th>23200</th>\n",
              "      <td>1</td>\n",
              "      <td>11</td>\n",
              "      <td>2020</td>\n",
              "      <td>46963</td>\n",
              "      <td>470</td>\n",
              "      <td>India</td>\n",
              "      <td>50.462679</td>\n",
              "    </tr>\n",
              "  </tbody>\n",
              "</table>\n",
              "</div>"
            ],
            "text/plain": [
              "       Date.Day  Date.Month  Date.Year  ...  Data.Deaths  Location.Country  Data.Rate\n",
              "23196         5          11       2020  ...          704             India  48.092174\n",
              "23197         4          11       2020  ...          514             India  48.504127\n",
              "23198         3          11       2020  ...          490             India  49.074304\n",
              "23199         2          11       2020  ...          496             India  49.694905\n",
              "23200         1          11       2020  ...          470             India  50.462679\n",
              "\n",
              "[5 rows x 7 columns]"
            ]
          },
          "metadata": {
            "tags": []
          },
          "execution_count": 6
        }
      ]
    },
    {
      "cell_type": "code",
      "metadata": {
        "colab": {
          "base_uri": "https://localhost:8080/",
          "height": 378
        },
        "id": "5fRIVw-J3Upn",
        "outputId": "b2681c3a-218a-448d-e5d9-e76d3083bf66"
      },
      "source": [
        "import datetime\n",
        "india['fulldate'] = india['Date.Day'].astype(str) + '-' + india['Date.Month'].astype(str) + '-' + india['Date.Year'].astype(str)\n",
        "india['fulldate2'] = pd.to_datetime(india['fulldate'])\n",
        "india.head(3)"
      ],
      "execution_count": null,
      "outputs": [
        {
          "output_type": "stream",
          "text": [
            "/usr/local/lib/python3.7/dist-packages/ipykernel_launcher.py:2: SettingWithCopyWarning: \n",
            "A value is trying to be set on a copy of a slice from a DataFrame.\n",
            "Try using .loc[row_indexer,col_indexer] = value instead\n",
            "\n",
            "See the caveats in the documentation: https://pandas.pydata.org/pandas-docs/stable/user_guide/indexing.html#returning-a-view-versus-a-copy\n",
            "  \n",
            "/usr/local/lib/python3.7/dist-packages/ipykernel_launcher.py:3: SettingWithCopyWarning: \n",
            "A value is trying to be set on a copy of a slice from a DataFrame.\n",
            "Try using .loc[row_indexer,col_indexer] = value instead\n",
            "\n",
            "See the caveats in the documentation: https://pandas.pydata.org/pandas-docs/stable/user_guide/indexing.html#returning-a-view-versus-a-copy\n",
            "  This is separate from the ipykernel package so we can avoid doing imports until\n"
          ],
          "name": "stderr"
        },
        {
          "output_type": "execute_result",
          "data": {
            "text/html": [
              "<div>\n",
              "<style scoped>\n",
              "    .dataframe tbody tr th:only-of-type {\n",
              "        vertical-align: middle;\n",
              "    }\n",
              "\n",
              "    .dataframe tbody tr th {\n",
              "        vertical-align: top;\n",
              "    }\n",
              "\n",
              "    .dataframe thead th {\n",
              "        text-align: right;\n",
              "    }\n",
              "</style>\n",
              "<table border=\"1\" class=\"dataframe\">\n",
              "  <thead>\n",
              "    <tr style=\"text-align: right;\">\n",
              "      <th></th>\n",
              "      <th>Date.Day</th>\n",
              "      <th>Date.Month</th>\n",
              "      <th>Date.Year</th>\n",
              "      <th>Data.Cases</th>\n",
              "      <th>Data.Deaths</th>\n",
              "      <th>Location.Country</th>\n",
              "      <th>Data.Rate</th>\n",
              "      <th>fulldate</th>\n",
              "      <th>fulldate2</th>\n",
              "    </tr>\n",
              "  </thead>\n",
              "  <tbody>\n",
              "    <tr>\n",
              "      <th>23196</th>\n",
              "      <td>5</td>\n",
              "      <td>11</td>\n",
              "      <td>2020</td>\n",
              "      <td>50210</td>\n",
              "      <td>704</td>\n",
              "      <td>India</td>\n",
              "      <td>48.092174</td>\n",
              "      <td>5-11-2020</td>\n",
              "      <td>2020-05-11</td>\n",
              "    </tr>\n",
              "    <tr>\n",
              "      <th>23197</th>\n",
              "      <td>4</td>\n",
              "      <td>11</td>\n",
              "      <td>2020</td>\n",
              "      <td>46253</td>\n",
              "      <td>514</td>\n",
              "      <td>India</td>\n",
              "      <td>48.504127</td>\n",
              "      <td>4-11-2020</td>\n",
              "      <td>2020-04-11</td>\n",
              "    </tr>\n",
              "    <tr>\n",
              "      <th>23198</th>\n",
              "      <td>3</td>\n",
              "      <td>11</td>\n",
              "      <td>2020</td>\n",
              "      <td>38310</td>\n",
              "      <td>490</td>\n",
              "      <td>India</td>\n",
              "      <td>49.074304</td>\n",
              "      <td>3-11-2020</td>\n",
              "      <td>2020-03-11</td>\n",
              "    </tr>\n",
              "  </tbody>\n",
              "</table>\n",
              "</div>"
            ],
            "text/plain": [
              "       Date.Day  Date.Month  Date.Year  ...  Data.Rate   fulldate  fulldate2\n",
              "23196         5          11       2020  ...  48.092174  5-11-2020 2020-05-11\n",
              "23197         4          11       2020  ...  48.504127  4-11-2020 2020-04-11\n",
              "23198         3          11       2020  ...  49.074304  3-11-2020 2020-03-11\n",
              "\n",
              "[3 rows x 9 columns]"
            ]
          },
          "metadata": {
            "tags": []
          },
          "execution_count": 7
        }
      ]
    },
    {
      "cell_type": "code",
      "metadata": {
        "colab": {
          "base_uri": "https://localhost:8080/",
          "height": 353
        },
        "id": "2nc3M7WzBFNw",
        "outputId": "4913f415-f15d-45a0-b0a1-8be6fe2dbbd5"
      },
      "source": [
        "%matplotlib inline\n",
        "\n",
        "sns.barplot(india['fulldate2'], india['Data.Rate'])"
      ],
      "execution_count": null,
      "outputs": [
        {
          "output_type": "stream",
          "text": [
            "/usr/local/lib/python3.7/dist-packages/seaborn/_decorators.py:43: FutureWarning: Pass the following variables as keyword args: x, y. From version 0.12, the only valid positional argument will be `data`, and passing other arguments without an explicit keyword will result in an error or misinterpretation.\n",
            "  FutureWarning\n"
          ],
          "name": "stderr"
        },
        {
          "output_type": "execute_result",
          "data": {
            "text/plain": [
              "<matplotlib.axes._subplots.AxesSubplot at 0x7f99919089d0>"
            ]
          },
          "metadata": {
            "tags": []
          },
          "execution_count": 9
        },
        {
          "output_type": "display_data",
          "data": {
            "image/png": "[encoded data removed]",
            "text/plain": [
              "<Figure size 432x288 with 1 Axes>"
            ]
          },
          "metadata": {
            "tags": [],
            "needs_background": "light"
          }
        }
      ]
    },
    {
      "cell_type": "code",
      "metadata": {
        "id": "FT6PMs4tBbF2"
      },
      "source": [
        "injury = pd.read_csv(\"injury.csv\", encoding = 'latin')"
      ],
      "execution_count": null,
      "outputs": []
    }
  ]
}